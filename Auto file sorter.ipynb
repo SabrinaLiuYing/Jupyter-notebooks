{
 "cells": [
  {
   "cell_type": "markdown",
   "id": "e016d5ea",
   "metadata": {},
   "source": [
    "# Automatic File Sorter in File Explorer"
   ]
  },
  {
   "cell_type": "code",
   "execution_count": 26,
   "id": "20f99f66",
   "metadata": {},
   "outputs": [],
   "source": [
    "import os, shutil"
   ]
  },
  {
   "cell_type": "code",
   "execution_count": 27,
   "id": "6f80a200",
   "metadata": {},
   "outputs": [],
   "source": [
    "# give the path of the file\n",
    "path = r\"C:/Users/Administrator/Desktop/testfile(1)/testfile/\"\n",
    "\n",
    "#os.listdir(path)"
   ]
  },
  {
   "cell_type": "code",
   "execution_count": 29,
   "id": "a3a29bc0",
   "metadata": {},
   "outputs": [],
   "source": [
    "#check file\n",
    "file_name = os.listdir(path)\n",
    "\n",
    "folder_names = [\"image files\",\"text files\", \"data files\",\"radio files\", \"other files\"]\n",
    "\n",
    "# create new folder\n",
    "for folder in folder_names:\n",
    "    if not os.path.exists(path + folder):\n",
    "        os.makedirs(path + folder)\n",
    "        \n",
    "# divid files into folders\n",
    "for files in file_name:\n",
    "    if \".png\" in files and not os.path.exists(path + \"image files/\"+ files):\n",
    "        shutil.move(path + files, path + \"image files/\"+ files)\n",
    "    elif \".jpg\" in files and not os.path.exists(path + \"image files/\"+ files):\n",
    "        shutil.move(path + files, path + \"image files/\"+ files)\n",
    "    elif \".ico\" in files and not os.path.exists(path + \"image files/\"+ files):\n",
    "        shutil.move(path + files, path + \"image files/\"+ files)\n",
    "    elif \".psd\" in files and not os.path.exists(path + \"image files/\"+ files):\n",
    "        shutil.move(path + files, path + \"image files/\"+ files)\n",
    "    elif \".doc\" in files and not os.path.exists(path + \"text files/\"+ files):\n",
    "        shutil.move(path + files, path + \"text files/\"+ files)\n",
    "    elif \".pdf\" in files and not os.path.exists(path + \"text files/\"+ files):\n",
    "        shutil.move(path + files, path + \"text files/\"+ files)\n",
    "    elif \".txt\" in files and not os.path.exists(path + \"text files/\"+ files):\n",
    "        shutil.move(path + files, path + \"text files/\"+ files)\n",
    "    elif \".xls\" in files and not os.path.exists(path + \"data files/\"+ files):\n",
    "        shutil.move(path + files, path + \"data files/\"+ files)\n",
    "    elif \".sql\" in files and not os.path.exists(path + \"data files/\"+ files):\n",
    "        shutil.move(path + files, path + \"data files/\"+ files)\n",
    "    elif \".mp4\" in files and not os.path.exists(path + \"radio files/\"+ files):\n",
    "        shutil.move(path + files, path + \"radio files/\"+ files)\n",
    "    elif \".\" in files :\n",
    "         shutil.move(path + files, path + \"other files/\"+ files)\n"
   ]
  },
  {
   "cell_type": "code",
   "execution_count": 13,
   "id": "7b6440c5",
   "metadata": {},
   "outputs": [],
   "source": []
  },
  {
   "cell_type": "code",
   "execution_count": null,
   "id": "5bee4c0b",
   "metadata": {},
   "outputs": [],
   "source": []
  },
  {
   "cell_type": "code",
   "execution_count": null,
   "id": "f5bc5744",
   "metadata": {},
   "outputs": [],
   "source": []
  },
  {
   "cell_type": "code",
   "execution_count": null,
   "id": "2e789b4e",
   "metadata": {},
   "outputs": [],
   "source": []
  }
 ],
 "metadata": {
  "kernelspec": {
   "display_name": "Python 3 (ipykernel)",
   "language": "python",
   "name": "python3"
  },
  "language_info": {
   "codemirror_mode": {
    "name": "ipython",
    "version": 3
   },
   "file_extension": ".py",
   "mimetype": "text/x-python",
   "name": "python",
   "nbconvert_exporter": "python",
   "pygments_lexer": "ipython3",
   "version": "3.11.5"
  }
 },
 "nbformat": 4,
 "nbformat_minor": 5
}
